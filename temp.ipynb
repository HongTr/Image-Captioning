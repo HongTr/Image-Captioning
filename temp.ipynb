{
 "cells": [
  {
   "cell_type": "code",
   "execution_count": 2,
   "metadata": {},
   "outputs": [],
   "source": [
    "filename = \"dataset/Flickr8k.token.txt\"\n",
    "file = open(filename, 'r')\n",
    "content = file.read()"
   ]
  },
  {
   "cell_type": "code",
   "execution_count": 6,
   "metadata": {},
   "outputs": [
    {
     "data": {
      "text/plain": [
       "'1000268201_693b08cb0e.jpg#0\\tA child123 in a pink dress is climbing up a set of stairs in an entry way .\\n1000268201_693b08cb0e.jpg#1\\tA girl going into a wooden building .\\n1000268201_693b08cb0e.jpg#2\\tA '"
      ]
     },
     "execution_count": 6,
     "metadata": {},
     "output_type": "execute_result"
    }
   ],
   "source": [
    "content[:200]"
   ]
  },
  {
   "cell_type": "code",
   "execution_count": 13,
   "metadata": {},
   "outputs": [],
   "source": [
    "#Create dictionary with id: [caption1, caption2, caption3, caption4, caption5]\n",
    "def load_description(text):\n",
    "    description_dict = dict()    \n",
    "    for line in text.split(\"\\n\"):\n",
    "        id, caption = line.split(\"\\t\")\n",
    "        id = id[:-6]    #Remove filename extension\n",
    "        if id not in description_dict:\n",
    "            description_dict[id] = list()\n",
    "            description_dict[id].append(caption)\n",
    "        else:\n",
    "            description_dict[id].append(caption)\n",
    "    return description_dict\n",
    "descriptions = load_description(content)"
   ]
  },
  {
   "cell_type": "code",
   "execution_count": 14,
   "metadata": {},
   "outputs": [
    {
     "data": {
      "text/plain": [
       "['A little girl covered in paint sits in front of a painted rainbow with her hands in a bowl .',\n",
       " 'A little girl is sitting in front of a large painted rainbow .',\n",
       " 'A small girl in the grass plays with fingerpaints in front of a white canvas with a rainbow on it .',\n",
       " 'There is a girl with pigtails sitting in front of a rainbow painting .',\n",
       " 'Young girl with pigtails painting outside in the grass .']"
      ]
     },
     "execution_count": 14,
     "metadata": {},
     "output_type": "execute_result"
    }
   ],
   "source": [
    "descriptions['1002674143_1b742ab4b8']"
   ]
  },
  {
   "cell_type": "code",
   "execution_count": 15,
   "metadata": {},
   "outputs": [],
   "source": [
    "import string\n",
    "import re\n",
    "\n",
    "def preprocessing(text):\n",
    "    text = text.translate(str.maketrans('', '', string.punctuation)) #remove punctuation\n",
    "    text = text.strip()\n",
    "    #text = \"startseq \" + text + \" endseq\"   #add startseq and endseq to the head and tail of sentences\n",
    "    text = \" \".join(text.split())\n",
    "    text = text.lower()\n",
    "    wordList = text.split()\n",
    "    wordList = [word for word in wordList if len(word)>1]  #remove \"a\" or \"s\"\n",
    "    wordList = [word for word in wordList if re.search(r\"\\d\", word) is None ] #remove word contains number, for example: child123\n",
    "    text = \" \".join(wordList)\n",
    "    return text\n",
    "\n",
    "for name in descriptions.keys():\n",
    "    descriptions[name] = [preprocessing(caption) for caption in descriptions[name]]\n",
    "\n",
    "    "
   ]
  },
  {
   "cell_type": "code",
   "execution_count": 16,
   "metadata": {},
   "outputs": [
    {
     "data": {
      "text/plain": [
       "['little girl covered in paint sits in front of painted rainbow with her hands in bowl',\n",
       " 'little girl is sitting in front of large painted rainbow',\n",
       " 'small girl in the grass plays with fingerpaints in front of white canvas with rainbow on it',\n",
       " 'there is girl with pigtails sitting in front of rainbow painting',\n",
       " 'young girl with pigtails painting outside in the grass']"
      ]
     },
     "execution_count": 16,
     "metadata": {},
     "output_type": "execute_result"
    }
   ],
   "source": [
    "descriptions['1002674143_1b742ab4b8']"
   ]
  },
  {
   "cell_type": "code",
   "execution_count": 17,
   "metadata": {},
   "outputs": [
    {
     "name": "stdout",
     "output_type": "stream",
     "text": [
      "Vocabulary Size: 8763\n"
     ]
    }
   ],
   "source": [
    "#Create a vocabulary\n",
    "vocabulary = set()\n",
    "for name in descriptions.keys():\n",
    "    for caption in descriptions[name]:\n",
    "        vocabulary.update(caption.split())\n",
    "print(f\"Vocabulary Size: {len(vocabulary)}\")"
   ]
  },
  {
   "cell_type": "code",
   "execution_count": null,
   "metadata": {},
   "outputs": [],
   "source": [
    "#We consider only words which occur at least 10 times in the entire corpus\n",
    "\n",
    "word_count = dict()\n",
    "word_count_threshold = 10\n",
    "\n",
    "for name, \n"
   ]
  }
 ],
 "metadata": {
  "kernelspec": {
   "display_name": "Python 3.10.4 64-bit",
   "language": "python",
   "name": "python3"
  },
  "language_info": {
   "codemirror_mode": {
    "name": "ipython",
    "version": 3
   },
   "file_extension": ".py",
   "mimetype": "text/x-python",
   "name": "python",
   "nbconvert_exporter": "python",
   "pygments_lexer": "ipython3",
   "version": "3.10.4"
  },
  "orig_nbformat": 4,
  "vscode": {
   "interpreter": {
    "hash": "916dbcbb3f70747c44a77c7bcd40155683ae19c65e1c03b4aa3499c5328201f1"
   }
  }
 },
 "nbformat": 4,
 "nbformat_minor": 2
}
